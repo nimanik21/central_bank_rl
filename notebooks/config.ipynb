{
 "cells": [
  {
   "cell_type": "code",
   "execution_count": 7,
   "metadata": {},
   "outputs": [
    {
     "name": "stdout",
     "output_type": "stream",
     "text": [
      "Overwriting /Users/nim/Documents/research/central_bank_rl/config.py\n"
     ]
    }
   ],
   "source": [
    "%%writefile ~/Documents/research/central_bank_rl/config.py\n",
    "import os\n",
    "\n",
    "# Automatically set the base directory to the location of this config file\n",
    "BASE_DIR = os.path.dirname(os.path.abspath(__file__))\n",
    "\n",
    "# Define key directories relative to BASE_DIR\n",
    "DATA_DIR = os.path.join(BASE_DIR, \"data\")\n",
    "RAW_DATA_DIR = os.path.join(DATA_DIR, \"raw\")\n",
    "PROCESSED_DATA_DIR = os.path.join(DATA_DIR, \"processed\")\n",
    "MODELS_DIR = os.path.join(BASE_DIR, \"models\")\n",
    "LOGS_DIR = os.path.join(BASE_DIR, \"logs\")\n",
    "SCRIPTS_DIR = os.path.join(BASE_DIR, \"scripts\")\n",
    "\n",
    "# Ensure required directories exist\n",
    "for path in [DATA_DIR, RAW_DATA_DIR, PROCESSED_DATA_DIR, MODELS_DIR, LOGS_DIR, SCRIPTS_DIR]:\n",
    "    os.makedirs(path, exist_ok=True)\n"
   ]
  },
  {
   "cell_type": "code",
   "execution_count": 11,
   "metadata": {},
   "outputs": [],
   "source": [
    "import sys\n",
    "import os\n",
    "\n",
    "# Ensure Python finds config.py\n",
    "sys.path.append(os.path.abspath(\"..\"))  # Moves up one level to find config.py\n",
    "\n",
    "from config import RAW_DATA_DIR\n",
    "\n",
    "import pandas as pd\n",
    "\n",
    "# Load data using the relative path from config.py\n",
    "file_path = os.path.join(RAW_DATA_DIR, \"macro_data_raw.csv\")\n",
    "df = pd.read_csv(file_path, index_col=\"date\", parse_dates=True)"
   ]
  },
  {
   "cell_type": "code",
   "execution_count": null,
   "metadata": {},
   "outputs": [],
   "source": []
  }
 ],
 "metadata": {
  "colab": {
   "authorship_tag": "ABX9TyO1Phv4jM0fRiDyXCkk0Ohv",
   "provenance": []
  },
  "kernelspec": {
   "display_name": "Python [conda env:base] *",
   "language": "python",
   "name": "conda-base-py"
  },
  "language_info": {
   "codemirror_mode": {
    "name": "ipython",
    "version": 3
   },
   "file_extension": ".py",
   "mimetype": "text/x-python",
   "name": "python",
   "nbconvert_exporter": "python",
   "pygments_lexer": "ipython3",
   "version": "3.12.7"
  }
 },
 "nbformat": 4,
 "nbformat_minor": 4
}
