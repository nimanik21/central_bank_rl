{
 "cells": [
  {
   "cell_type": "code",
   "execution_count": 1,
   "id": "8952773c-0ab4-4cd8-b4d5-e05bd06e84df",
   "metadata": {},
   "outputs": [],
   "source": [
    "import sys\n",
    "import os\n",
    "\n",
    "# Ensure Python finds config.py\n",
    "sys.path.append(os.path.abspath(\"..\"))  # Moves up one level to find config.py"
   ]
  },
  {
   "cell_type": "code",
   "execution_count": 2,
   "id": "2ee5960a-5ca7-4266-99eb-d88e81d33349",
   "metadata": {},
   "outputs": [],
   "source": [
    "import sys\n",
    "import os\n",
    "\n",
    "# Add the src directory to Python's search path\n",
    "sys.path.append(os.path.join(os.getcwd(), \"src\"))\n"
   ]
  },
  {
   "cell_type": "code",
   "execution_count": 3,
   "id": "03af7e86-2986-4ed6-8b90-eafb647fc17f",
   "metadata": {},
   "outputs": [
    {
     "ename": "ModuleNotFoundError",
     "evalue": "No module named 'central_bank_env'",
     "output_type": "error",
     "traceback": [
      "\u001b[0;31m---------------------------------------------------------------------------\u001b[0m",
      "\u001b[0;31mModuleNotFoundError\u001b[0m                       Traceback (most recent call last)",
      "Cell \u001b[0;32mIn[3], line 1\u001b[0m\n\u001b[0;32m----> 1\u001b[0m \u001b[38;5;28;01mfrom\u001b[39;00m \u001b[38;5;21;01mcentral_bank_env\u001b[39;00m \u001b[38;5;28;01mimport\u001b[39;00m CentralBankEnv\n",
      "\u001b[0;31mModuleNotFoundError\u001b[0m: No module named 'central_bank_env'"
     ]
    }
   ],
   "source": [
    "from central_bank_env import CentralBankEnv\n"
   ]
  },
  {
   "cell_type": "code",
   "execution_count": null,
   "id": "d091745f-9dc8-4fb0-b0b0-a5cc7b2dc133",
   "metadata": {},
   "outputs": [],
   "source": [
    "import os\n",
    "import gym\n",
    "import numpy as np\n",
    "import pandas as pd\n",
    "import pickle\n",
    "from stable_baselines3 import PPO\n",
    "from stable_baselines3.common.vec_env import DummyVecEnv\n",
    "from config import MODELS_DIR, PROCESSED_DATA_DIR, LOGS_DIR  # Import directory setup\n",
    "from central_bank_env import CentralBankEnv  # Import the environment\n",
    "\n",
    "# ✅ Define paths\n",
    "varmax_model_path = os.path.join(MODELS_DIR, \"varmax_model.pkl\")\n",
    "rl_train_data_path = os.path.join(PROCESSED_DATA_DIR, \"rl_train_data.csv\")\n",
    "\n",
    "# ✅ Create the environment function (needed for DummyVecEnv)\n",
    "def make_env():\n",
    "    return CentralBankEnv(varmax_model_path, rl_train_data_path, optimal_lag=10, episode_length=60)\n",
    "\n",
    "# ✅ Wrap the environment with DummyVecEnv\n",
    "env = DummyVecEnv([make_env])\n",
    "\n",
    "# ✅ Define RL model (using PPO)\n",
    "model = PPO(\"MlpPolicy\", env, verbose=1, tensorboard_log=os.path.join(LOGS_DIR, \"ppo_central_bank/\"))\n",
    "\n",
    "# ✅ Train the model\n",
    "num_timesteps = 100_000  # Adjust based on computing power\n",
    "model.learn(total_timesteps=num_timesteps)\n",
    "\n",
    "# ✅ Save trained model\n",
    "model_path = os.path.join(MODELS_DIR, \"ppo_central_bank\")\n",
    "os.makedirs(os.path.dirname(model_path), exist_ok=True)\n",
    "model.save(model_path)\n",
    "print(f\"RL Model saved at: {model_path}\")\n",
    "\n",
    "# ✅ Log episode rewards\n",
    "env_rewards = env.get_attr(\"episode_rewards\")[0]\n",
    "reward_log_path = os.path.join(LOGS_DIR, \"rl_rewards.csv\")\n",
    "pd.DataFrame(env_rewards, columns=[\"Total Reward\"]).to_csv(reward_log_path, index=False)\n",
    "print(f\"Episode rewards logged at: {reward_log_path}\")\n"
   ]
  },
  {
   "cell_type": "code",
   "execution_count": null,
   "id": "79ac4c7e-faae-4df0-93b2-aed7135a0660",
   "metadata": {},
   "outputs": [],
   "source": []
  }
 ],
 "metadata": {
  "kernelspec": {
   "display_name": "Python [conda env:base] *",
   "language": "python",
   "name": "conda-base-py"
  },
  "language_info": {
   "codemirror_mode": {
    "name": "ipython",
    "version": 3
   },
   "file_extension": ".py",
   "mimetype": "text/x-python",
   "name": "python",
   "nbconvert_exporter": "python",
   "pygments_lexer": "ipython3",
   "version": "3.12.7"
  }
 },
 "nbformat": 4,
 "nbformat_minor": 5
}
