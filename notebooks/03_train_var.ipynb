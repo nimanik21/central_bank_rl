{
 "cells": [
  {
   "cell_type": "code",
   "execution_count": 1,
   "metadata": {},
   "outputs": [],
   "source": [
    "from statsmodels.tsa.api import VAR\n",
    "from statsmodels.tsa.statespace.varmax import VARMAX\n",
    "import pickle"
   ]
  },
  {
   "cell_type": "code",
   "execution_count": 2,
   "metadata": {
    "colab": {
     "base_uri": "https://localhost:8080/"
    },
    "executionInfo": {
     "elapsed": 25270,
     "status": "ok",
     "timestamp": 1742333043232,
     "user": {
      "displayName": "Nima Nikopour",
      "userId": "06567774203827436637"
     },
     "user_tz": 420
    },
    "id": "kGJvtrXAOD0a",
    "outputId": "9a91beae-a0af-4ea6-b63e-3543fa6a4d87"
   },
   "outputs": [],
   "source": [
    "import sys\n",
    "import os\n",
    "\n",
    "# Ensure Python finds config.py\n",
    "sys.path.append(os.path.abspath(\"..\"))  # Moves up one level to find config.py"
   ]
  },
  {
   "cell_type": "code",
   "execution_count": 3,
   "metadata": {
    "executionInfo": {
     "elapsed": 738,
     "status": "ok",
     "timestamp": 1742333103540,
     "user": {
      "displayName": "Nima Nikopour",
      "userId": "06567774203827436637"
     },
     "user_tz": 420
    },
    "id": "8XGqvExHwZYK"
   },
   "outputs": [],
   "source": [
    "import pandas as pd\n",
    "import config\n",
    "from config import PROCESSED_DATA_DIR  # Import the global path setup\n",
    "\n",
    "\n",
    "# Load data using the relative path from config.py\n",
    "file_path = os.path.join(PROCESSED_DATA_DIR, \"varmax_train_data.csv\")  \n",
    "df = pd.read_csv(file_path, index_col=\"date\", parse_dates=True)\n",
    "\n"
   ]
  },
  {
   "cell_type": "code",
   "execution_count": 4,
   "metadata": {
    "executionInfo": {
     "elapsed": 42,
     "status": "ok",
     "timestamp": 1742333106316,
     "user": {
      "displayName": "Nima Nikopour",
      "userId": "06567774203827436637"
     },
     "user_tz": 420
    },
    "id": "5pqWZxFrx6KC"
   },
   "outputs": [],
   "source": [
    "# Ensure datetime format & monthly frequency\n",
    "df.index = pd.to_datetime(df.index)\n",
    "df = df.asfreq(\"ME\")\n",
    "\n",
    "# Define endogenous variables (macro variables excluding FFR)\n",
    "endog_vars = df.drop(columns=[\"FEDFUNDS\"])\n",
    "\n",
    "# Define exogenous variable (FFR)\n",
    "exog_vars = df[[\"FEDFUNDS\"]]\n",
    "\n"
   ]
  },
  {
   "cell_type": "code",
   "execution_count": 5,
   "metadata": {
    "colab": {
     "base_uri": "https://localhost:8080/"
    },
    "executionInfo": {
     "elapsed": 59,
     "status": "ok",
     "timestamp": 1742333111200,
     "user": {
      "displayName": "Nima Nikopour",
      "userId": "06567774203827436637"
     },
     "user_tz": 420
    },
    "id": "OWWHUES6PAcm",
    "outputId": "6bf4c3d7-d6f0-4fbc-b1b8-3881e2c5ae8e"
   },
   "outputs": [],
   "source": [
    "#  8. Select Optimal Lag Order Using VAR\n",
    "var_model = VAR(endog_vars)  # Use standard VAR for lag selection\n",
    "lag_selection = var_model.select_order(maxlags=12)  # Try up to 12 lags\n"
   ]
  },
  {
   "cell_type": "code",
   "execution_count": 6,
   "metadata": {
    "colab": {
     "base_uri": "https://localhost:8080/"
    },
    "executionInfo": {
     "elapsed": 5,
     "status": "ok",
     "timestamp": 1742333113704,
     "user": {
      "displayName": "Nima Nikopour",
      "userId": "06567774203827436637"
     },
     "user_tz": 420
    },
    "id": "SKiy-Mc1PCzS",
    "outputId": "abc7409d-9169-4b13-8694-9aae7c86485a"
   },
   "outputs": [
    {
     "name": "stdout",
     "output_type": "stream",
     "text": [
      "Optimal lag selected based on AIC: 4\n"
     ]
    }
   ],
   "source": [
    "# Extract best lag based on AIC (it is already a single value)\n",
    "optimal_lag = lag_selection.aic\n",
    "print(f\"Optimal lag selected based on AIC: {optimal_lag}\")\n"
   ]
  },
  {
   "cell_type": "code",
   "execution_count": 7,
   "metadata": {
    "colab": {
     "base_uri": "https://localhost:8080/"
    },
    "executionInfo": {
     "elapsed": 39776,
     "status": "ok",
     "timestamp": 1742333166022,
     "user": {
      "displayName": "Nima Nikopour",
      "userId": "06567774203827436637"
     },
     "user_tz": 420
    },
    "id": "7aopSHCWPahj",
    "outputId": "a0bcd768-e262-4a43-92ba-f502cd198cbf"
   },
   "outputs": [
    {
     "name": "stdout",
     "output_type": "stream",
     "text": [
      "Training VARMAX Model...\n"
     ]
    },
    {
     "name": "stderr",
     "output_type": "stream",
     "text": [
      "/Applications/anaconda3/lib/python3.12/site-packages/statsmodels/base/model.py:607: ConvergenceWarning: Maximum Likelihood optimization failed to converge. Check mle_retvals\n",
      "  warnings.warn(\"Maximum Likelihood optimization failed to \"\n"
     ]
    },
    {
     "name": "stdout",
     "output_type": "stream",
     "text": [
      "VARMAX Model Training Complete!\n",
      "                                                Statespace Model Results                                               \n",
      "=======================================================================================================================\n",
      "Dep. Variable:     ['CPIAUCSL', 'UNRATE', 'INDPRO', 'M2SL', 'GDPC1', 'GDPPOT']   No. Observations:                  166\n",
      "Model:                                                                 VARX(4)   Log Likelihood               -1617.618\n",
      "                                                                   + intercept   AIC                           3589.237\n",
      "Date:                                                         Wed, 19 Mar 2025   BIC                           4140.058\n",
      "Time:                                                                 18:38:43   HQIC                          3812.819\n",
      "Sample:                                                             02-28-2005                                         \n",
      "                                                                  - 11-30-2018                                         \n",
      "Covariance Type:                                                           opg                                         \n",
      "===========================================================================================================================\n",
      "Ljung-Box (L1) (Q):     0.03, 0.19, 0.05, 0.11, 0.05, 0.00   Jarque-Bera (JB):   11.17, 3.76, 73.74, 56.24, 146.16, 3081.95\n",
      "Prob(Q):                0.87, 0.66, 0.83, 0.74, 0.82, 0.97   Prob(JB):                   0.00, 0.15, 0.00, 0.00, 0.00, 0.00\n",
      "Heteroskedasticity (H): 0.37, 0.99, 0.56, 1.45, 0.47, 0.21   Skew:                   -0.25, -0.14, -0.55, 0.70, -0.73, 2.49\n",
      "Prob(H) (two-sided):    0.00, 0.97, 0.03, 0.17, 0.01, 0.00   Kurtosis:                  4.17, 3.68, 6.07, 5.49, 7.36, 23.51\n",
      "                          Results for equation CPIAUCSL                          \n",
      "=================================================================================\n",
      "                    coef    std err          z      P>|z|      [0.025      0.975]\n",
      "---------------------------------------------------------------------------------\n",
      "intercept        -0.0521      1.471     -0.035      0.972      -2.934       2.830\n",
      "L1.CPIAUCSL      -0.3057      0.734     -0.416      0.677      -1.745       1.134\n",
      "L1.UNRATE         0.7652      2.395      0.320      0.749      -3.928       5.458\n",
      "L1.INDPRO        -0.0714      0.746     -0.096      0.924      -1.534       1.391\n",
      "L1.M2SL           0.0008      0.016      0.048      0.962      -0.030       0.032\n",
      "L1.GDPC1         -0.0008      0.016     -0.049      0.961      -0.033       0.031\n",
      "L1.GDPPOT        -0.0689      1.559     -0.044      0.965      -3.124       2.987\n",
      "L2.CPIAUCSL      -0.3469      1.009     -0.344      0.731      -2.325       1.631\n",
      "L2.UNRATE         0.1465      3.285      0.045      0.964      -6.292       6.585\n",
      "L2.INDPRO         0.1322      0.868      0.152      0.879      -1.569       1.833\n",
      "L2.M2SL           0.0008      0.018      0.046      0.963      -0.035       0.036\n",
      "L2.GDPC1          0.0003      0.030      0.010      0.992      -0.058       0.059\n",
      "L2.GDPPOT         0.1899      1.076      0.176      0.860      -1.920       2.300\n",
      "L3.CPIAUCSL      -0.3132      0.557     -0.562      0.574      -1.405       0.779\n",
      "L3.UNRATE        -0.2335      3.407     -0.069      0.945      -6.912       6.445\n",
      "L3.INDPRO         0.0225      0.749      0.030      0.976      -1.445       1.490\n",
      "L3.M2SL           0.0002      0.016      0.010      0.992      -0.031       0.031\n",
      "L3.GDPC1          0.0077      0.027      0.290      0.772      -0.044       0.060\n",
      "L3.GDPPOT         0.2996      1.183      0.253      0.800      -2.019       2.618\n",
      "L4.CPIAUCSL      -0.0591      0.679     -0.087      0.931      -1.389       1.271\n",
      "L4.UNRATE         0.2844      1.930      0.147      0.883      -3.499       4.068\n",
      "L4.INDPRO        -0.1350      0.921     -0.147      0.883      -1.940       1.670\n",
      "L4.M2SL       -4.389e-05      0.021     -0.002      0.998      -0.041       0.041\n",
      "L4.GDPC1         -0.0078      0.022     -0.349      0.727      -0.052       0.036\n",
      "L4.GDPPOT        -0.0479      1.244     -0.038      0.969      -2.487       2.391\n",
      "beta.FEDFUNDS     1.2889      2.658      0.485      0.628      -3.921       6.499\n",
      "                           Results for equation UNRATE                           \n",
      "=================================================================================\n",
      "                    coef    std err          z      P>|z|      [0.025      0.975]\n",
      "---------------------------------------------------------------------------------\n",
      "intercept         0.0605      0.181      0.335      0.738      -0.294       0.415\n",
      "L1.CPIAUCSL       0.0148      0.160      0.092      0.927      -0.299       0.329\n",
      "L1.UNRATE        -0.0444      0.765     -0.058      0.954      -1.544       1.455\n",
      "L1.INDPRO        -0.0391      0.151     -0.258      0.796      -0.336       0.258\n",
      "L1.M2SL           0.0003      0.006      0.059      0.953      -0.011       0.012\n",
      "L1.GDPC1          0.0004      0.008      0.050      0.960      -0.015       0.016\n",
      "L1.GDPPOT        -0.0345      0.655     -0.053      0.958      -1.319       1.250\n",
      "L2.CPIAUCSL       0.0042      0.238      0.017      0.986      -0.463       0.471\n",
      "L2.UNRATE         0.0289      0.727      0.040      0.968      -1.396       1.454\n",
      "L2.INDPRO        -0.0049      0.165     -0.030      0.976      -0.328       0.318\n",
      "L2.M2SL          -0.0008      0.003     -0.269      0.788      -0.007       0.005\n",
      "L2.GDPC1         -0.0016      0.009     -0.165      0.869      -0.020       0.017\n",
      "L2.GDPPOT         0.0184      0.186      0.099      0.921      -0.346       0.383\n",
      "L3.CPIAUCSL      -0.0049      0.151     -0.032      0.974      -0.301       0.291\n",
      "L3.UNRATE        -0.0030      0.486     -0.006      0.995      -0.956       0.950\n",
      "L3.INDPRO        -0.0287      0.177     -0.162      0.871      -0.376       0.319\n",
      "L3.M2SL       -3.783e-05      0.004     -0.010      0.992      -0.007       0.007\n",
      "L3.GDPC1          0.0004      0.008      0.045      0.964      -0.016       0.017\n",
      "L3.GDPPOT        -0.0471      0.367     -0.128      0.898      -0.766       0.672\n",
      "L4.CPIAUCSL       0.0034      0.135      0.025      0.980      -0.261       0.267\n",
      "L4.UNRATE         0.0645      0.409      0.158      0.875      -0.737       0.866\n",
      "L4.INDPRO        -0.0219      0.198     -0.111      0.912      -0.410       0.366\n",
      "L4.M2SL           0.0002      0.003      0.044      0.965      -0.007       0.007\n",
      "L4.GDPC1         -0.0008      0.009     -0.090      0.928      -0.018       0.017\n",
      "L4.GDPPOT         0.0155      0.530      0.029      0.977      -1.024       1.055\n",
      "beta.FEDFUNDS    -0.0244      1.131     -0.022      0.983      -2.242       2.193\n",
      "                           Results for equation INDPRO                           \n",
      "=================================================================================\n",
      "                    coef    std err          z      P>|z|      [0.025      0.975]\n",
      "---------------------------------------------------------------------------------\n",
      "intercept        -0.0592      1.284     -0.046      0.963      -2.576       2.457\n",
      "L1.CPIAUCSL       0.0393      0.463      0.085      0.932      -0.869       0.947\n",
      "L1.UNRATE        -0.4540      2.232     -0.203      0.839      -4.829       3.921\n",
      "L1.INDPRO        -0.0652      0.811     -0.080      0.936      -1.655       1.525\n",
      "L1.M2SL          -0.0012      0.013     -0.095      0.924      -0.027       0.024\n",
      "L1.GDPC1          0.0105      0.021      0.494      0.621      -0.031       0.052\n",
      "L1.GDPPOT         0.7045      1.809      0.389      0.697      -2.841       4.250\n",
      "L2.CPIAUCSL       0.0513      0.678      0.076      0.940      -1.278       1.381\n",
      "L2.UNRATE         0.0483      3.046      0.016      0.987      -5.922       6.018\n",
      "L2.INDPRO        -0.0352      0.995     -0.035      0.972      -1.985       1.915\n",
      "L2.M2SL          -0.0006      0.015     -0.039      0.969      -0.030       0.029\n",
      "L2.GDPC1         -0.0067      0.029     -0.232      0.816      -0.063       0.050\n",
      "L2.GDPPOT        -0.0606      0.681     -0.089      0.929      -1.396       1.275\n",
      "L3.CPIAUCSL       0.0677      0.760      0.089      0.929      -1.422       1.557\n",
      "L3.UNRATE         0.0584      3.488      0.017      0.987      -6.778       6.895\n",
      "L3.INDPRO         0.0546      0.739      0.074      0.941      -1.393       1.502\n",
      "L3.M2SL          -0.0007      0.014     -0.055      0.957      -0.027       0.026\n",
      "L3.GDPC1          0.0012      0.044      0.027      0.979      -0.085       0.087\n",
      "L3.GDPPOT        -0.0321      1.468     -0.022      0.983      -2.910       2.845\n",
      "L4.CPIAUCSL       0.0821      0.758      0.108      0.914      -1.404       1.568\n",
      "L4.UNRATE         0.4846      2.424      0.200      0.842      -4.267       5.236\n",
      "L4.INDPRO         0.2048      0.724      0.283      0.777      -1.215       1.625\n",
      "L4.M2SL          -0.0004      0.018     -0.021      0.984      -0.035       0.035\n",
      "L4.GDPC1          0.0030      0.049      0.062      0.951      -0.093       0.099\n",
      "L4.GDPPOT        -0.3293      1.768     -0.186      0.852      -3.795       3.137\n",
      "beta.FEDFUNDS     0.0780      3.907      0.020      0.984      -7.580       7.736\n",
      "                            Results for equation M2SL                            \n",
      "=================================================================================\n",
      "                    coef    std err          z      P>|z|      [0.025      0.975]\n",
      "---------------------------------------------------------------------------------\n",
      "intercept        37.5526     30.843      1.218      0.223     -22.898      98.003\n",
      "L1.CPIAUCSL      -5.7083     24.065     -0.237      0.812     -52.874      41.458\n",
      "L1.UNRATE       -22.6482     56.391     -0.402      0.688    -133.172      87.876\n",
      "L1.INDPRO        -4.1413     29.684     -0.140      0.889     -62.321      54.039\n",
      "L1.M2SL           0.1209      0.623      0.194      0.846      -1.099       1.341\n",
      "L1.GDPC1         -0.1665      1.265     -0.132      0.895      -2.645       2.312\n",
      "L1.GDPPOT        -1.6964     38.242     -0.044      0.965     -76.650      73.257\n",
      "L2.CPIAUCSL     -10.3832     25.858     -0.402      0.688     -61.065      40.298\n",
      "L2.UNRATE        -6.6366     81.172     -0.082      0.935    -165.731     152.458\n",
      "L2.INDPRO        -1.8946     35.973     -0.053      0.958     -72.401      68.612\n",
      "L2.M2SL           0.1110      0.392      0.283      0.777      -0.657       0.879\n",
      "L2.GDPC1         -0.0822      1.523     -0.054      0.957      -3.067       2.903\n",
      "L2.GDPPOT         8.7772     67.163      0.131      0.896    -122.860     140.414\n",
      "L3.CPIAUCSL      -5.3524     23.791     -0.225      0.822     -51.982      41.277\n",
      "L3.UNRATE       -33.8065     83.635     -0.404      0.686    -197.728     130.115\n",
      "L3.INDPRO        -7.7367     30.001     -0.258      0.796     -66.537      51.064\n",
      "L3.M2SL           0.1129      0.591      0.191      0.849      -1.046       1.272\n",
      "L3.GDPC1          0.0374      1.447      0.026      0.979      -2.798       2.873\n",
      "L3.GDPPOT        14.7994     53.080      0.279      0.780     -89.236     118.835\n",
      "L4.CPIAUCSL      -1.6202     23.112     -0.070      0.944     -46.920      43.679\n",
      "L4.UNRATE       -16.9605     67.288     -0.252      0.801    -148.842     114.921\n",
      "L4.INDPRO        -1.1224     30.556     -0.037      0.971     -61.011      58.766\n",
      "L4.M2SL           0.0400      0.905      0.044      0.965      -1.734       1.814\n",
      "L4.GDPC1         -0.1270      1.107     -0.115      0.909      -2.296       2.042\n",
      "L4.GDPPOT         6.1254     40.753      0.150      0.881     -73.748      85.999\n",
      "beta.FEDFUNDS     5.6970     50.044      0.114      0.909     -92.387     103.781\n",
      "                            Results for equation GDPC1                           \n",
      "=================================================================================\n",
      "                    coef    std err          z      P>|z|      [0.025      0.975]\n",
      "---------------------------------------------------------------------------------\n",
      "intercept         7.5793     75.925      0.100      0.920    -141.231     156.390\n",
      "L1.CPIAUCSL       1.5562     43.149      0.036      0.971     -83.014      86.126\n",
      "L1.UNRATE       -12.3065     21.962     -0.560      0.575     -55.352      30.739\n",
      "L1.INDPRO         5.0117     34.561      0.145      0.885     -62.726      72.749\n",
      "L1.M2SL          -0.0463      0.773     -0.060      0.952      -1.562       1.470\n",
      "L1.GDPC1          0.8607      1.400      0.615      0.539      -1.883       3.605\n",
      "L1.GDPPOT         0.2479     35.297      0.007      0.994     -68.934      69.430\n",
      "L2.CPIAUCSL      -0.1787     32.312     -0.006      0.996     -63.510      63.152\n",
      "L2.UNRATE       -14.1353     27.085     -0.522      0.602     -67.221      38.950\n",
      "L2.INDPRO        -3.6377     59.096     -0.062      0.951    -119.463     112.188\n",
      "L2.M2SL           0.0658      0.820      0.080      0.936      -1.541       1.673\n",
      "L2.GDPC1         -0.0791      2.124     -0.037      0.970      -4.242       4.084\n",
      "L2.GDPPOT         3.6967     64.151      0.058      0.954    -122.037     129.430\n",
      "L3.CPIAUCSL      -0.1842     30.501     -0.006      0.995     -59.964      59.596\n",
      "L3.UNRATE       -10.2349     70.026     -0.146      0.884    -147.483     127.013\n",
      "L3.INDPRO         2.9275     32.452      0.090      0.928     -60.677      66.532\n",
      "L3.M2SL          -0.0702      0.732     -0.096      0.924      -1.505       1.365\n",
      "L3.GDPC1         -0.3929      1.780     -0.221      0.825      -3.881       3.096\n",
      "L3.GDPPOT         2.8603     35.854      0.080      0.936     -67.412      73.133\n",
      "L4.CPIAUCSL       3.8081     29.985      0.127      0.899     -54.962      62.579\n",
      "L4.UNRATE        25.2234     88.190      0.286      0.775    -147.627     198.073\n",
      "L4.INDPRO         3.4859     38.228      0.091      0.927     -71.440      78.412\n",
      "L4.M2SL           0.1232      0.549      0.224      0.822      -0.952       1.199\n",
      "L4.GDPC1          0.1753      1.364      0.129      0.898      -2.498       2.848\n",
      "L4.GDPPOT         0.6536     44.608      0.015      0.988     -86.776      88.083\n",
      "beta.FEDFUNDS    32.4885     78.695      0.413      0.680    -121.751     186.728\n",
      "                           Results for equation GDPPOT                           \n",
      "=================================================================================\n",
      "                    coef    std err          z      P>|z|      [0.025      0.975]\n",
      "---------------------------------------------------------------------------------\n",
      "intercept         0.0161      0.593      0.027      0.978      -1.146       1.178\n",
      "L1.CPIAUCSL       0.0096      0.548      0.017      0.986      -1.064       1.083\n",
      "L1.UNRATE        -0.0426      1.526     -0.028      0.978      -3.033       2.948\n",
      "L1.INDPRO        -0.0102      0.299     -0.034      0.973      -0.597       0.576\n",
      "L1.M2SL           0.0005      0.007      0.071      0.943      -0.012       0.013\n",
      "L1.GDPC1         -0.0003      0.012     -0.029      0.977      -0.024       0.023\n",
      "L1.GDPPOT        -0.0001      2.386  -4.86e-05      1.000      -4.678       4.677\n",
      "L2.CPIAUCSL      -0.0345      0.349     -0.099      0.921      -0.719       0.650\n",
      "L2.UNRATE        -0.3366      1.417     -0.237      0.812      -3.115       2.442\n",
      "L2.INDPRO         0.0412      0.402      0.103      0.918      -0.747       0.829\n",
      "L2.M2SL          -0.0007      0.006     -0.115      0.908      -0.012       0.011\n",
      "L2.GDPC1          0.0003      0.017      0.016      0.987      -0.032       0.033\n",
      "L2.GDPPOT        -0.0085      0.467     -0.018      0.985      -0.924       0.907\n",
      "L3.CPIAUCSL       0.0319      0.657      0.049      0.961      -1.257       1.320\n",
      "L3.UNRATE         0.0764      1.543      0.050      0.961      -2.948       3.100\n",
      "L3.INDPRO         0.0078      0.406      0.019      0.985      -0.789       0.804\n",
      "L3.M2SL           0.0005      0.007      0.066      0.947      -0.013       0.014\n",
      "L3.GDPC1          0.0039      0.018      0.221      0.825      -0.031       0.038\n",
      "L3.GDPPOT         0.8133      0.397      2.049      0.040       0.035       1.591\n",
      "L4.CPIAUCSL      -0.0157      0.530     -0.030      0.976      -1.055       1.023\n",
      "L4.UNRATE         0.1119      1.178      0.095      0.924      -2.197       2.421\n",
      "L4.INDPRO         0.0168      0.439      0.038      0.970      -0.844       0.877\n",
      "L4.M2SL          -0.0003      0.009     -0.034      0.973      -0.018       0.017\n",
      "L4.GDPC1         -0.0045      0.011     -0.404      0.686      -0.026       0.017\n",
      "L4.GDPPOT        -0.0086      2.656     -0.003      0.997      -5.215       5.198\n",
      "beta.FEDFUNDS     0.1201      1.406      0.085      0.932      -2.636       2.876\n",
      "                                  Error covariance matrix                                   \n",
      "============================================================================================\n",
      "                               coef    std err          z      P>|z|      [0.025      0.975]\n",
      "--------------------------------------------------------------------------------------------\n",
      "sqrt.var.CPIAUCSL            0.5719      0.244      2.340      0.019       0.093       1.051\n",
      "sqrt.cov.CPIAUCSL.UNRATE     0.0078      0.117      0.067      0.947      -0.221       0.236\n",
      "sqrt.var.UNRATE              0.1380      0.045      3.090      0.002       0.050       0.226\n",
      "sqrt.cov.CPIAUCSL.INDPRO    -0.1114      0.354     -0.315      0.753      -0.805       0.582\n",
      "sqrt.cov.UNRATE.INDPRO      -0.0822      0.713     -0.115      0.908      -1.480       1.316\n",
      "sqrt.var.INDPRO              0.5134      0.362      1.417      0.156      -0.197       1.224\n",
      "sqrt.cov.CPIAUCSL.M2SL       0.0253     20.260      0.001      0.999     -39.684      39.734\n",
      "sqrt.cov.UNRATE.M2SL        -0.8758     18.453     -0.047      0.962     -37.043      35.292\n",
      "sqrt.cov.INDPRO.M2SL        -2.0323     21.846     -0.093      0.926     -44.849      40.784\n",
      "sqrt.var.M2SL               26.6456      8.175      3.259      0.001      10.623      42.669\n",
      "sqrt.cov.CPIAUCSL.GDPC1     -0.8389     13.115     -0.064      0.949     -26.544      24.866\n",
      "sqrt.cov.UNRATE.GDPC1       -3.7370     14.751     -0.253      0.800     -32.649      25.175\n",
      "sqrt.cov.INDPRO.GDPC1        5.8603     27.418      0.214      0.831     -47.877      59.598\n",
      "sqrt.cov.M2SL.GDPC1          2.8923     14.066      0.206      0.837     -24.676      30.461\n",
      "sqrt.var.GDPC1              20.1785      7.770      2.597      0.009       4.949      35.408\n",
      "sqrt.cov.CPIAUCSL.GDPPOT     0.0073      0.269      0.027      0.978      -0.520       0.535\n",
      "sqrt.cov.UNRATE.GDPPOT      -0.0044      0.208     -0.021      0.983      -0.413       0.404\n",
      "sqrt.cov.INDPRO.GDPPOT       0.0283      0.222      0.128      0.898      -0.407       0.463\n",
      "sqrt.cov.M2SL.GDPPOT         0.0090      0.257      0.035      0.972      -0.494       0.512\n",
      "sqrt.cov.GDPC1.GDPPOT        0.0245      0.327      0.075      0.940      -0.616       0.665\n",
      "sqrt.var.GDPPOT              0.1955      0.080      2.439      0.015       0.038       0.353\n",
      "============================================================================================\n",
      "\n",
      "Warnings:\n",
      "[1] Covariance matrix calculated using the outer product of gradients (complex-step).\n",
      "[2] Covariance matrix is singular or near-singular, with condition number 2.62e+17. Standard errors may be unstable.\n",
      "VARMAX Model Saved: /Users/nim/Documents/Research/central_bank_rl/models/varmax_model.pkl\n"
     ]
    }
   ],
   "source": [
    "from config import MODELS_DIR\n",
    "import os\n",
    "import pickle\n",
    "from statsmodels.tsa.statespace.varmax import VARMAX\n",
    "\n",
    "# Ensure models directory exists\n",
    "os.makedirs(MODELS_DIR, exist_ok=True)\n",
    "\n",
    "# Define model path\n",
    "varmax_model_path = os.path.join(MODELS_DIR, \"varmax_model.pkl\")\n",
    "\n",
    "# 9. Fit VARMAX Model with Optimal Lag\n",
    "print(\"Training VARMAX Model...\")\n",
    "\n",
    "# Shift exogenous variables to match lag structure\n",
    "exog_vars_lagged = exog_vars.iloc[optimal_lag:]  # Drop initial lagged rows\n",
    "endog_vars_lagged = endog_vars.iloc[optimal_lag:]  # Drop initial lagged rows\n",
    "\n",
    "# Fit VARMAX Model\n",
    "varmax_model = VARMAX(endog_vars_lagged, exog=exog_vars_lagged, order=(optimal_lag, 0))\n",
    "varmax_results = varmax_model.fit(disp=False)\n",
    "\n",
    "print(\"VARMAX Model Training Complete!\")\n",
    "print(varmax_results.summary())\n",
    "\n",
    "# 10. Save the Trained Model\n",
    "with open(varmax_model_path, \"wb\") as f:\n",
    "    pickle.dump(varmax_results, f)\n",
    "\n",
    "print(f\"VARMAX Model Saved: {varmax_model_path}\")\n"
   ]
  }
 ],
 "metadata": {
  "colab": {
   "authorship_tag": "ABX9TyMUPreHz8PC23iFrX9xCv2j",
   "provenance": []
  },
  "kernelspec": {
   "display_name": "Python [conda env:base] *",
   "language": "python",
   "name": "conda-base-py"
  },
  "language_info": {
   "codemirror_mode": {
    "name": "ipython",
    "version": 3
   },
   "file_extension": ".py",
   "mimetype": "text/x-python",
   "name": "python",
   "nbconvert_exporter": "python",
   "pygments_lexer": "ipython3",
   "version": "3.12.7"
  }
 },
 "nbformat": 4,
 "nbformat_minor": 4
}
