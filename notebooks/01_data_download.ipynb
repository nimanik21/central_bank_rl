{
 "cells": [
  {
   "cell_type": "code",
   "execution_count": 1,
   "metadata": {},
   "outputs": [],
   "source": [
    "import sys\n",
    "import os\n",
    "\n",
    "# Ensure Python finds config.py\n",
    "sys.path.append(os.path.abspath(\"..\"))  # Moves up one level to find config.py"
   ]
  },
  {
   "cell_type": "code",
   "execution_count": 2,
   "metadata": {},
   "outputs": [],
   "source": [
    "import os\n",
    "import json\n",
    "import requests\n",
    "import pandas as pd\n",
    "import importlib\n",
    "from config import RAW_DATA_DIR  # Import directory structure\n",
    "\n",
    "# Load API key from local JSON file\n",
    "api_key_path = os.path.expanduser(\"~/Documents/research/API/api_keys.json\")\n",
    "with open(api_key_path, \"r\") as f:\n",
    "    fred_api_key = json.load(f)[\"FRED_API_KEY\"]\n",
    "\n",
    "def fetch_fred_data(series_id, api_key, start=None, end=None):\n",
    "    \"\"\"Fetches a single FRED series in JSON format and returns a DataFrame.\"\"\"\n",
    "    url = f\"https://api.stlouisfed.org/fred/series/observations?series_id={series_id}&api_key={api_key}&file_type=json\"\n",
    "    if start and end:\n",
    "        url += f\"&observation_start={start}&observation_end={end}\"\n",
    "\n",
    "    response = requests.get(url)\n",
    "    response.raise_for_status()\n",
    "    data = response.json()\n",
    "\n",
    "    if \"observations\" not in data:\n",
    "        return None\n",
    "\n",
    "    df = pd.DataFrame(data[\"observations\"])\n",
    "    df[\"date\"] = pd.to_datetime(df[\"date\"])\n",
    "    df[\"value\"] = pd.to_numeric(df[\"value\"], errors=\"coerce\")\n",
    "    df.drop(columns=[\"realtime_start\", \"realtime_end\"], errors=\"ignore\", inplace=True)\n",
    "    df.set_index(\"date\", inplace=True)\n",
    "\n",
    "    return df.rename(columns={\"value\": series_id})\n",
    "\n",
    "def download_fred_data(api_key, start=\"2000-01-01\", end=\"2025-01-01\"):\n",
    "    \"\"\"Fetches key FRED macroeconomic indicators and saves the raw dataset as a CSV.\"\"\"\n",
    "    series_dict = {\n",
    "        \"CPIAUCSL\":  \"CPI\",\n",
    "        \"UNRATE\":    \"UNRATE\",\n",
    "        \"FEDFUNDS\":  \"FEDFUNDS\",\n",
    "        \"INDPRO\":    \"INDPRO\",\n",
    "        \"M2SL\":      \"M2\",\n",
    "        \"GDPC1\":     \"REAL_GDP\",\n",
    "        \"GDPPOT\":    \"POT_GDP\",\n",
    "    }\n",
    "\n",
    "    all_data = {colname: fetch_fred_data(sid, api_key, start, end) for sid, colname in series_dict.items()}\n",
    "    all_data = {k: v for k, v in all_data.items() if v is not None}\n",
    "\n",
    "    if not all_data:\n",
    "        return\n",
    "\n",
    "    df_raw = pd.concat(all_data.values(), axis=1, join=\"outer\")\n",
    "    \n",
    "    # Ensure the raw data directory exists\n",
    "    os.makedirs(RAW_DATA_DIR, exist_ok=True)\n",
    "    \n",
    "    out_file = os.path.join(RAW_DATA_DIR, \"macro_data_raw.csv\")\n",
    "    df_raw.to_csv(out_file)\n",
    "\n",
    "if __name__ == \"__main__\":\n",
    "    download_fred_data(api_key=fred_api_key, start=\"2004-01-01\", end=\"2025-01-01\")\n"
   ]
  },
  {
   "cell_type": "code",
   "execution_count": null,
   "metadata": {},
   "outputs": [],
   "source": []
  }
 ],
 "metadata": {
  "colab": {
   "authorship_tag": "ABX9TyNhOrTW//VCnQg9K32iykf1",
   "provenance": []
  },
  "kernelspec": {
   "display_name": "Python [conda env:base] *",
   "language": "python",
   "name": "conda-base-py"
  },
  "language_info": {
   "codemirror_mode": {
    "name": "ipython",
    "version": 3
   },
   "file_extension": ".py",
   "mimetype": "text/x-python",
   "name": "python",
   "nbconvert_exporter": "python",
   "pygments_lexer": "ipython3",
   "version": "3.12.7"
  }
 },
 "nbformat": 4,
 "nbformat_minor": 4
}
